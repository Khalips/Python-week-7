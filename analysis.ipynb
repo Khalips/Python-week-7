{
 "cells": [
  {
   "cell_type": "code",
   "execution_count": null,
   "id": "06e50c64",
   "metadata": {},
   "outputs": [
    {
     "ename": "",
     "evalue": "",
     "output_type": "error",
     "traceback": [
      "\u001b[1;31mRunning cells with 'Python 3.13.2' requires the ipykernel package.\n",
      "\u001b[1;31m<a href='command:jupyter.createPythonEnvAndSelectController'>Create a Python Environment</a> with the required packages."
     ]
    }
   ],
   "source": [
    "# Importing required libraries\n",
    "import pandas as pd\n",
    "import numpy as np\n",
    "import matplotlib.pyplot as plt\n",
    "import seaborn as sns\n",
    "from sklearn.datasets import load_iris\n",
    "\n",
    "# Magic command to display plots inline\n",
    "%matplotlib inline"
   ]
  },
  {
   "cell_type": "code",
   "execution_count": null,
   "id": "0121817b",
   "metadata": {},
   "outputs": [],
   "source": [
    "# Loading the Iris dataset\n",
    "iris_data = load_iris()\n",
    "\n",
    "# Converting to DataFrame\n",
    "iris_df = pd.DataFrame(data=iris_data.data, columns=iris_data.feature_names)\n",
    "iris_df['species'] = iris_data.target\n",
    "\n",
    "# Mapping species numbers to names\n",
    "iris_df['species'] = iris_df['species'].map({0: 'setosa', 1: 'versicolor', 2: 'virginica'})\n",
    "\n",
    "# Displaying first 5 rows\n",
    "iris_df.head()"
   ]
  },
  {
   "cell_type": "code",
   "execution_count": null,
   "id": "78b4b2fa",
   "metadata": {},
   "outputs": [],
   "source": [
    "# Checking data types\n",
    "print(\"Data types:\")\n",
    "print(iris_df.dtypes)\n",
    "\n",
    "# Checking for missing values\n",
    "print(\"\\nMissing values:\")\n",
    "print(iris_df.isnull().sum())"
   ]
  },
  {
   "cell_type": "code",
   "execution_count": null,
   "id": "d339dfe5",
   "metadata": {},
   "outputs": [],
   "source": [
    "# Summary statistics\n",
    "print(\"Basic statistics:\")\n",
    "print(iris_df.describe())\n",
    "\n",
    "# Grouping by species\n",
    "print(\"\\nMean sepal length by species:\")\n",
    "print(iris_df.groupby('species')['sepal length (cm)'].mean())"
   ]
  },
  {
   "cell_type": "code",
   "execution_count": null,
   "id": "d6a8958c",
   "metadata": {},
   "outputs": [],
   "source": [
    "# Line plot (Sepal Length vs Width)\n",
    "plt.figure(figsize=(10, 5))\n",
    "plt.plot(iris_df['sepal length (cm)'], label='Sepal Length')\n",
    "plt.plot(iris_df['sepal width (cm)'], label='Sepal Width')\n",
    "plt.title('Sepal Measurements')\n",
    "plt.xlabel('Sample Index')\n",
    "plt.ylabel('Measurement (cm)')\n",
    "plt.legend()\n",
    "plt.show()"
   ]
  },
  {
   "cell_type": "code",
   "execution_count": null,
   "id": "e70476c4",
   "metadata": {},
   "outputs": [],
   "source": [
    "# Bar chart (Mean Petal Length by Species)\n",
    "mean_petal_length = iris_df.groupby('species')['petal length (cm)'].mean()\n",
    "mean_petal_length.plot(kind='bar', color=['red', 'green', 'blue'])\n",
    "plt.title('Average Petal Length by Species')\n",
    "plt.ylabel('Petal Length (cm)')\n",
    "plt.xticks(rotation=0)\n",
    "plt.show()\n",
    "\n",
    "# Scatter plot (Sepal vs Petal Length)\n",
    "plt.figure(figsize=(8, 6))\n",
    "colors = {'setosa': 'red', 'versicolor': 'green', 'virginica': 'blue'}\n",
    "for species, group in iris_df.groupby('species'):\n",
    "    plt.scatter(group['sepal length (cm)'], group['petal length (cm)'], \n",
    "                color=colors[species], label=species)\n",
    "plt.title('Sepal vs Petal Length')\n",
    "plt.xlabel('Sepal Length (cm)')\n",
    "plt.ylabel('Petal Length (cm)')\n",
    "plt.legend()\n",
    "plt.show()"
   ]
  },
  {
   "cell_type": "code",
   "execution_count": null,
   "id": "0e347a4b",
   "metadata": {},
   "outputs": [],
   "source": [
    "# Pairplot (All variables)\n",
    "sns.pairplot(iris_df, hue='species', palette='viridis')\n",
    "plt.suptitle('Pairplot of Iris Dataset', y=1.02)\n",
    "plt.show()\n",
    "\n",
    "# Boxplot (Petal Width by Species)\n",
    "plt.figure(figsize=(10, 6))\n",
    "sns.boxplot(data=iris_df, x='species', y='petal width (cm)', palette='Set2')\n",
    "plt.title('Petal Width Distribution by Species')\n",
    "plt.show()"
   ]
  }
 ],
 "metadata": {
  "kernelspec": {
   "display_name": "Python 3",
   "language": "python",
   "name": "python3"
  },
  "language_info": {
   "name": "python",
   "version": "3.13.2"
  }
 },
 "nbformat": 4,
 "nbformat_minor": 5
}
